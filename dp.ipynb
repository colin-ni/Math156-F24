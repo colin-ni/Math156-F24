{
 "cells": [
  {
   "cell_type": "markdown",
   "metadata": {},
   "source": [
    "You know it's going to be a good notebook when it starts with the following import:"
   ]
  },
  {
   "cell_type": "code",
   "execution_count": 1,
   "metadata": {},
   "outputs": [],
   "source": [
    "from functools import cache"
   ]
  },
  {
   "cell_type": "markdown",
   "metadata": {},
   "source": [
    "### Problem 1\n",
    "Given an unlimited supply of coins of given denominations (e.g. unlimited pennies and nickels), find the minimum number of coins required to get the desired change."
   ]
  },
  {
   "cell_type": "code",
   "execution_count": null,
   "metadata": {},
   "outputs": [],
   "source": [
    "def n_coins(denominations, change):\n",
    "    denominations = list(set(denominations))\n",
    "    @cache\n",
    "    def n_coins_cached(change):\n",
    "        if change == 0:\n",
    "            return 0\n",
    "        elif change < 0:\n",
    "            return float('inf')\n",
    "        else:\n",
    "            return min(\n",
    "                1 + n_coins_cached(change - d)\n",
    "                for d in denominations\n",
    "            )\n",
    "    return n_coins_cached(change)"
   ]
  },
  {
   "cell_type": "code",
   "execution_count": 9,
   "metadata": {},
   "outputs": [
    {
     "ename": "TypeError",
     "evalue": "unhashable type: 'list'",
     "output_type": "error",
     "traceback": [
      "\u001b[0;31m---------------------------------------------------------------------------\u001b[0m",
      "\u001b[0;31mTypeError\u001b[0m                                 Traceback (most recent call last)",
      "Cell \u001b[0;32mIn[9], line 1\u001b[0m\n\u001b[0;32m----> 1\u001b[0m \u001b[38;5;28;01massert\u001b[39;00m \u001b[43mn_coins\u001b[49m\u001b[43m(\u001b[49m\u001b[43m[\u001b[49m\u001b[38;5;241;43m1\u001b[39;49m\u001b[43m,\u001b[49m\u001b[43m \u001b[49m\u001b[38;5;241;43m5\u001b[39;49m\u001b[43m]\u001b[49m\u001b[43m,\u001b[49m\u001b[43m \u001b[49m\u001b[38;5;241;43m12\u001b[39;49m\u001b[43m)\u001b[49m \u001b[38;5;241m==\u001b[39m \u001b[38;5;241m4\u001b[39m\n\u001b[1;32m      2\u001b[0m \u001b[38;5;28;01massert\u001b[39;00m n_coins([\u001b[38;5;241m1\u001b[39m, \u001b[38;5;241m3\u001b[39m, \u001b[38;5;241m5\u001b[39m, \u001b[38;5;241m7\u001b[39m], \u001b[38;5;241m15\u001b[39m) \u001b[38;5;241m==\u001b[39m \u001b[38;5;241m3\u001b[39m\n\u001b[1;32m      3\u001b[0m \u001b[38;5;28;01massert\u001b[39;00m n_coins([\u001b[38;5;241m1\u001b[39m], \u001b[38;5;241m1000\u001b[39m) \u001b[38;5;241m==\u001b[39m \u001b[38;5;241m1000\u001b[39m\n",
      "\u001b[0;31mTypeError\u001b[0m: unhashable type: 'list'"
     ]
    }
   ],
   "source": [
    "assert n_coins([1, 5], 12) == 4\n",
    "assert n_coins([1, 3, 5, 7], 15) == 3\n",
    "assert n_coins([1], 1000) == 1000\n",
    "assert n_coins([10, 25], 51) == float('inf')"
   ]
  },
  {
   "cell_type": "markdown",
   "metadata": {},
   "source": [
    "The runtime is $O(dc)$ where $d$ is the number of denominations and $c$ is the amount of change that we want."
   ]
  },
  {
   "cell_type": "markdown",
   "metadata": {},
   "source": [
    "### Problem 2\n",
    "Given a string and a list of valid words, determine if the string can be segmented into valid words."
   ]
  },
  {
   "cell_type": "code",
   "execution_count": 4,
   "metadata": {},
   "outputs": [],
   "source": [
    "def segmentable(valid_words, s):\n",
    "    @cache\n",
    "    def segmentable_cached(i):\n",
    "        '''whether s[:i] is segmentable'''\n",
    "        if i == 0:\n",
    "            return True\n",
    "        else:\n",
    "            return any(\n",
    "                segmentable_cached(i - len(valid_word))\n",
    "                for valid_word in valid_words\n",
    "                if s[:i].endswith(valid_word) # Python will cache the splice\n",
    "            )\n",
    "\n",
    "    return segmentable_cached(len(s))"
   ]
  },
  {
   "cell_type": "code",
   "execution_count": 5,
   "metadata": {},
   "outputs": [],
   "source": [
    "s = 'penpineappleapplepen'\n",
    "assert segmentable({'pen', 'pineapple', 'apple'}, s)\n",
    "assert segmentable({'pen', 'pine', 'apple'}, s)\n",
    "assert not segmentable({'pen', 'apple'}, s)\n",
    "assert not segmentable({'pen', 'pineapple'}, s)"
   ]
  },
  {
   "cell_type": "markdown",
   "metadata": {},
   "source": [
    "The runtime is $O(v\\ell s)$ where $v$ is the number of valid words, $\\ell$ is the (average) length of the valid words, and $s$ is the length of the given string."
   ]
  },
  {
   "cell_type": "markdown",
   "metadata": {},
   "source": [
    "### Problem 3\n",
    "\n",
    "Let $A$ and $B$ be two lists of numbers. Determine the longest common (not necessarily contiguous) subsequence. For example, the answer for $A = [1, 3, 2, 4, 7]$ and $B = [5, 1, 3, 4, 9]$ is $[1, 3, 4].$"
   ]
  },
  {
   "cell_type": "code",
   "execution_count": null,
   "metadata": {},
   "outputs": [],
   "source": [
    "def LCS(A, B):\n",
    "    @cache\n",
    "    def LCS_cached(i, j):\n",
    "        if i == 0 or j == 0:\n",
    "            return []\n",
    "        elif A[i - 1] == B[j - 1]:\n",
    "            return LCS_cached(i - 1, j - 1) + [A[i - 1]]\n",
    "        else:\n",
    "            LCS_A_discarded = LCS(i - 1, j)\n",
    "            LCS_B_discarded = LCS(i, j - 1)\n",
    "            return (\n",
    "                LCS_A_discarded\n",
    "                if len(LCS_A_discarded) > len(LCS_B_discarded)\n",
    "                else LCS_B_discarded\n",
    "            )"
   ]
  },
  {
   "cell_type": "code",
   "execution_count": 6,
   "metadata": {},
   "outputs": [],
   "source": [
    "def LCS(A, B):\n",
    "    @cache\n",
    "    def len_LCS(i, j):\n",
    "        '''The length of the LCS for A[:i] and B[:j]'''\n",
    "        if i == 0 or j == 0:\n",
    "            return 0\n",
    "        elif A[i - 1] == B[j - 1]:\n",
    "            return 1 + len_LCS(i - 1, j - 1)\n",
    "        else:\n",
    "            return max(len_LCS(i - 1, j), len_LCS(i, j - 1))\n",
    "    \n",
    "    i, j = len(A), len(B)\n",
    "    answer = []\n",
    "    while i > 0 and j > 0:\n",
    "        if (x := A[i - 1]) == B[j - 1]:\n",
    "            answer.append(x)\n",
    "            i -= 1\n",
    "            j -= 1\n",
    "        elif len_LCS(i - 1, j) >= len_LCS(i, j - 1):\n",
    "            i -= 1\n",
    "        else:\n",
    "            j -= 1\n",
    "    return list(reversed(answer))"
   ]
  },
  {
   "cell_type": "code",
   "execution_count": 7,
   "metadata": {},
   "outputs": [],
   "source": [
    "assert LCS([1, 3, 2, 4, 7], [5, 1, 3, 4, 9]) == [1, 3, 4]\n",
    "assert LCS([0, 1], [0, 1]) == [0, 1]\n",
    "assert LCS([2], [0, 1, 2, 3, 4]) == [2]"
   ]
  },
  {
   "cell_type": "markdown",
   "metadata": {},
   "source": [
    "The runtime is $O(ab)$ where $a$ and $b$ are the lengths of $A$ and $B$ respectively."
   ]
  }
 ],
 "metadata": {
  "kernelspec": {
   "display_name": "Python 3",
   "language": "python",
   "name": "python3"
  },
  "language_info": {
   "codemirror_mode": {
    "name": "ipython",
    "version": 3
   },
   "file_extension": ".py",
   "mimetype": "text/x-python",
   "name": "python",
   "nbconvert_exporter": "python",
   "pygments_lexer": "ipython3",
   "version": "3.12.3"
  }
 },
 "nbformat": 4,
 "nbformat_minor": 2
}
